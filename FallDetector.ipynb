{
  "nbformat": 4,
  "nbformat_minor": 0,
  "metadata": {
    "accelerator": "GPU",
    "colab": {
      "name": "FallDetector.ipynb",
      "provenance": [],
      "collapsed_sections": [
        "JI1ExEjqkAJp"
      ],
      "toc_visible": true,
      "include_colab_link": true
    },
    "kernelspec": {
      "display_name": "Python 3",
      "name": "python3"
    },
    "language_info": {
      "name": "python"
    }
  },
  "cells": [
    {
      "cell_type": "markdown",
      "metadata": {
        "id": "view-in-github",
        "colab_type": "text"
      },
      "source": [
        "<a href=\"https://colab.research.google.com/github/antonercool/deep-learning-exam-project/blob/master/FallDetector.ipynb\" target=\"_parent\"><img src=\"https://colab.research.google.com/assets/colab-badge.svg\" alt=\"Open In Colab\"/></a>"
      ]
    },
    {
      "cell_type": "markdown",
      "metadata": {
        "id": "RuijswKcNnPY"
      },
      "source": [
        ""
      ]
    },
    {
      "cell_type": "markdown",
      "metadata": {
        "id": "MutW9icTjgAZ"
      },
      "source": [
        "# Deep Learning course project - Fall Detection\n",
        "\n",
        "\n"
      ]
    },
    {
      "cell_type": "markdown",
      "metadata": {
        "id": "JI1ExEjqkAJp"
      },
      "source": [
        "###Group members\n",
        "\n",
        "\n",
        "*   Anton Sihm, studentId.: 201504954\n",
        "*   Peter Marcus Hoveling, studentId.: 201508876\n",
        "\n",
        "\n",
        "\n",
        "\n"
      ]
    },
    {
      "cell_type": "markdown",
      "metadata": {
        "id": "mK6SxF2bk1mh"
      },
      "source": [
        "\n",
        "###Purpose\n",
        "\n",
        "This project aims to detect human actions from live video feed, in order to achieve safety, such as\n",
        "alarms when elderly people fall in their apartments.\n",
        "\n",
        "\n",
        "\n",
        "\n"
      ]
    },
    {
      "cell_type": "markdown",
      "metadata": {
        "id": "jVy_WAXzlHvr"
      },
      "source": [
        "\n",
        "\n",
        "---\n",
        "\n"
      ]
    },
    {
      "cell_type": "markdown",
      "metadata": {
        "id": "z5u6jEplkP8u"
      },
      "source": [
        "### Data sets"
      ]
    },
    {
      "cell_type": "markdown",
      "metadata": {
        "id": "1mxgGvdFkd02"
      },
      "source": [
        "To evaluate the fall detection, dataset from realistic video surveillance settings will be used. Framerate\n",
        "and resolution may vary as finding the same formatted video data is challenging\n",
        "\n",
        "\n",
        "*   mViA - Fall detection dataset\n",
        "\n"
      ]
    },
    {
      "cell_type": "code",
      "metadata": {
        "id": "tbMKOj_WtAAT"
      },
      "source": [
        ""
      ],
      "execution_count": null,
      "outputs": []
    },
    {
      "cell_type": "markdown",
      "metadata": {
        "id": "mfgWtudgrvZH"
      },
      "source": [
        "## Task 0: Mounting Google Drive data\n"
      ]
    },
    {
      "cell_type": "code",
      "metadata": {
        "colab": {
          "base_uri": "https://localhost:8080/"
        },
        "id": "DNqOf05KhNV-",
        "outputId": "9d656999-bb3d-4f57-8c8c-d92c5713e786"
      },
      "source": [
        "from google.colab import drive\n",
        "drive.mount('/content/gdrive/')"
      ],
      "execution_count": null,
      "outputs": [
        {
          "output_type": "stream",
          "name": "stdout",
          "text": [
            "Mounted at /content/gdrive/\n"
          ]
        }
      ]
    },
    {
      "cell_type": "markdown",
      "metadata": {
        "id": "OvZUArads4-R"
      },
      "source": [
        "Creating a variable to the specific files mouted"
      ]
    },
    {
      "cell_type": "code",
      "metadata": {
        "id": "88QdPuwfsoZF"
      },
      "source": [
        "from pathlib import Path\n",
        "root = '/content/gdrive/My Drive/' # Don't change this\n",
        "data_dirname = 'Data_complete' # Change as you like\n",
        "p = Path(root + data_dirname)\n",
        "p.mkdir(exist_ok=True) # should \"/content/gdrive/My Drive/Data\""
      ],
      "execution_count": null,
      "outputs": []
    },
    {
      "cell_type": "markdown",
      "metadata": {
        "id": "t--_-SBqtFTZ"
      },
      "source": [
        "Validating the data directory"
      ]
    },
    {
      "cell_type": "code",
      "metadata": {
        "colab": {
          "base_uri": "https://localhost:8080/"
        },
        "id": "qiApPSd8tDwI",
        "outputId": "f1cdc677-53a3-49c3-e993-9d7fca11cff9"
      },
      "source": [
        "print(p)"
      ],
      "execution_count": null,
      "outputs": [
        {
          "output_type": "stream",
          "name": "stdout",
          "text": [
            "/content/gdrive/My Drive/Data_complete\n"
          ]
        }
      ]
    },
    {
      "cell_type": "markdown",
      "metadata": {
        "id": "q-MykY4QsBe0"
      },
      "source": [
        "## Task 1: Preprocessing"
      ]
    },
    {
      "cell_type": "markdown",
      "metadata": {
        "id": "Q-s2kqYj19bi"
      },
      "source": [
        "## Utils"
      ]
    },
    {
      "cell_type": "code",
      "metadata": {
        "id": "0n6NzYQm2EwD"
      },
      "source": [
        "# Importing all necessary libraries\n",
        "import cv2\n",
        "import os\n",
        "import numpy \n",
        "import random\n",
        "\n",
        "class VideoUtils:\n",
        "\n",
        "  def __init__(self):\n",
        "    pass\n",
        "\n",
        "  def convert_single_video_to_images(self, video_path, annotation_path, dim):\n",
        "    # Read the video from specified path\n",
        "    video = cv2.VideoCapture(video_path)\n",
        "    meta_data = open(annotation_path)\n",
        "\n",
        "    start_fall_frame = meta_data.readline() \n",
        "    end_fall_frame = meta_data.readline() \n",
        "\n",
        "    not_falling = False\n",
        "    # check if has labels\n",
        "    if \",\" in start_fall_frame:\n",
        "      #print(f\"does not contain : {annotation_path}\")\n",
        "      ## skip current\n",
        "      not_falling = True\n",
        "      start_fall_frame = 0\n",
        "      end_fall_frame = 0\n",
        "    else:\n",
        "      start_fall_frame = int(start_fall_frame)\n",
        "      end_fall_frame = int(end_fall_frame)  \n",
        "\n",
        "    traning_samples = []\n",
        "    training_labels = []\n",
        "\n",
        "    currentframe = 0\n",
        "\n",
        "    while(True):\n",
        "\n",
        "      # reading from frame\n",
        "      ret,frame = video.read()\n",
        "      if ret:\n",
        "        if(frame.shape[0] != dim[0] or frame.shape[1] != dim[1]):\n",
        "          try:\n",
        "            frame = self.center_crop(frame, dim)\n",
        "          except e:\n",
        "            print(f\"failed to center from image from vid : {video_path}, error {e}\")\n",
        "\n",
        "        traning_samples.append(frame)\n",
        "\n",
        "        if not_falling == False:\n",
        "          # if falling - label 1\n",
        "          if currentframe >= start_fall_frame and currentframe <= end_fall_frame:\n",
        "            training_labels.append(1)\n",
        "          # not falling - label 0\n",
        "          else:\n",
        "            training_labels.append(0)\n",
        "        else:\n",
        "          training_labels.append(0)\n",
        "\n",
        "        # increasing counter so that it will\n",
        "        # show how many frames are created\n",
        "        currentframe += 1\n",
        "      else:\n",
        "        break\n",
        "\n",
        "    # Release all space and windows once done\n",
        "    video.release()\n",
        "    cv2.destroyAllWindows()\n",
        "\n",
        "    traning_samples = numpy.array(traning_samples)\n",
        "    training_labels =  numpy.array(training_labels)\n",
        "\n",
        "    return (traning_samples, training_labels, True)\n",
        "\n",
        "  # Function from: https://medium.com/curious-manava/center-crop-and-scaling-in-opencv-using-python-279c1bb77c74\n",
        "  def center_crop(self, img, dim):\n",
        "\t  \"\"\"Returns center cropped image\n",
        "\t  Args:\n",
        "\t  img: image to be center cropped\n",
        "\t  dim: dimensions (width, height) to be cropped\n",
        "\t  \"\"\"\n",
        "\t  width, height = img.shape[1], img.shape[0]\n",
        "\n",
        "\t  # process crop width and height for max available dimension\n",
        "\t  crop_width = dim[0] if dim[0]<img.shape[1] else img.shape[1]\n",
        "\t  crop_height = dim[1] if dim[1]<img.shape[0] else img.shape[0] \n",
        "\t  mid_x, mid_y = int(width/2), int(height/2)\n",
        "\t  cw2, ch2 = int(crop_width/2), int(crop_height/2) \n",
        "\t  crop_img = img[mid_y-ch2:mid_y+ch2, mid_x-cw2:mid_x+cw2]\n",
        "\t  return crop_img\n",
        "\n",
        "\n",
        "  def _get_movie_IDs(self, root_path):\n",
        "    list_video_paths = []\n",
        "    annotation_path = r\"/Annotation_files\"\n",
        "    video_path = r\"/Videos\"\n",
        "    \n",
        "    data_sub_dir = os.listdir(root_path)\n",
        "\n",
        "    # interate each sub dir\n",
        "    for dir in data_sub_dir:\n",
        "      if \".ipynb\" in dir:\n",
        "        continue\n",
        "      if \"model\" in data_sub_dir:\n",
        "        continue  \n",
        "      # for each file in sub dir\n",
        "      for file in os.listdir(str(root_path) + \"/\" + dir + video_path):\n",
        "        absolute_video_file_path = str(str(root_path) + \"/\" + dir + video_path + \"/\"+ file)\n",
        "        list_video_paths.append(absolute_video_file_path)\n",
        "\n",
        "    return list_video_paths\n",
        "\n",
        "\n",
        "  def normalize_image(self, image):\n",
        "    # normalizing values between 0 - 1\n",
        "    return image/255.0\n",
        "\n",
        "  # create_partition_list(p)\n",
        "  def create_partition_list(self, root_path, traning_percentage=80, validation_percentage=20):\n",
        "    partition = {}\n",
        "\n",
        "    absolute_video_path_list = video_utils._get_movie_IDs(root_path)\n",
        "    random.shuffle(absolute_video_path_list)\n",
        "\n",
        "    to_index = int((len(absolute_video_path_list)+1)*(traning_percentage/100))\n",
        "    from_index = int(len(absolute_video_path_list)*(traning_percentage/100)+1)\n",
        "\n",
        "    print(f\"traning {0}:{to_index}\")\n",
        "    print(f\"validation {from_index}:{len(absolute_video_path_list)}\")\n",
        "\n",
        "    training = absolute_video_path_list[0:to_index]\n",
        "    validation = absolute_video_path_list[from_index:]\n",
        "\n",
        "    total_frames_training = 0\n",
        "    total_frames_validation = 0\n",
        "    \n",
        "    for image_path in training:\n",
        "      cap= cv2.VideoCapture(image_path)\n",
        "      total_frames_training += int(cap.get(cv2.CAP_PROP_FRAME_COUNT))\n",
        "\n",
        "    for image_path in validation:\n",
        "      cap= cv2.VideoCapture(image_path)\n",
        "      total_frames_validation += int(cap.get(cv2.CAP_PROP_FRAME_COUNT))\n",
        "\n",
        "    \n",
        "    partition['Training'] = (training, total_frames_training)\n",
        "    partition['Validation'] = (validation, total_frames_validation)\n",
        "\n",
        "    return partition"
      ],
      "execution_count": null,
      "outputs": []
    },
    {
      "cell_type": "markdown",
      "metadata": {
        "id": "lPyh4Iw-1Ued"
      },
      "source": [
        "### Testing Video ultils\n"
      ]
    },
    {
      "cell_type": "code",
      "metadata": {
        "colab": {
          "base_uri": "https://localhost:8080/"
        },
        "id": "yxj08t9B1a3P",
        "outputId": "c275b771-c313-4dc1-f339-391dee5d3021"
      },
      "source": [
        "video_utils = VideoUtils()\n",
        "traning_samples, training_labels, is_ok = video_utils.convert_single_video_to_images(str(p) + \"/Office/Videos/video (6).avi\", str(p) + \"/Office/Annotation_files/video (6).txt\", (180,180))\n",
        "print(traning_samples.shape)\n",
        "\n",
        "absolute_video_path_list = video_utils._get_movie_IDs(p)\n",
        "\n",
        "partition = video_utils.create_partition_list(p)\n",
        "\n",
        "print(partition['Training'][1])\n",
        "print(partition['Validation'][1])\n"
      ],
      "execution_count": null,
      "outputs": [
        {
          "output_type": "stream",
          "name": "stdout",
          "text": [
            "(415, 180, 180, 3)\n",
            "traning 0:0\n",
            "validation 1:0\n",
            "0\n",
            "0\n"
          ]
        }
      ]
    },
    {
      "cell_type": "markdown",
      "metadata": {
        "id": "gb8tV0PSkg1x"
      },
      "source": [
        "### Dataloader"
      ]
    },
    {
      "cell_type": "code",
      "metadata": {
        "id": "fLVPgdLgkodl"
      },
      "source": [
        "import numpy as np\n",
        "import keras\n",
        "from tensorflow.keras.utils import Sequence\n",
        "from keras import utils as np_utils\n",
        "import random\n",
        "\n",
        "class FallingDataGenerator(Sequence):\n",
        "\n",
        "  def __init__(self, movie_path_list, total_movie_frames, batch_size=32, dim=(240, 320), n_channels=3, n_classes=2, shuffle=True): \n",
        "      'Initialization'\n",
        "      self.dim = dim\n",
        "      self.batch_size = batch_size\n",
        "      self.n_channels = n_channels\n",
        "      self.n_classes = n_classes\n",
        "      self.shuffle = shuffle\n",
        "      self.movie_path_list = movie_path_list\n",
        "      self.total_movie_frames = total_movie_frames\n",
        "      self.current_video_data = 0# ((415, 240, 320, 3)(415)) # 0-32, 32-64 ...... 400-415    \n",
        "      self.current_video_frame = 0\n",
        "      self.current_movie_index = 0\n",
        "      self.video_utils = VideoUtils()\n",
        "      self.current_batch = 0\n",
        "\n",
        "      # init by shuffle\n",
        "      self.on_epoch_end()\n",
        "\n",
        "  # Shuffling the order in which examples are fed to the classifier is helpful so that batches between epochs do not look alike\n",
        "  ## TODO shuffle path list\n",
        "  def on_epoch_end(self):\n",
        "    'Updates indexes after each epoch'\n",
        "    print(\"DEBUG - on epoch end\")\n",
        "    random.shuffle(self.movie_path_list)\n",
        "    self.current_video_data = 0\n",
        "    self.current_video_frame = 0\n",
        "    self.current_movie_index = 0\n",
        "\n",
        "\n",
        "  def __data_generation(self):\n",
        "    'Generates data containing batch_size samples' # X : (n_samples, *dim, n_channels)\n",
        "    # Initialization\n",
        "    X = np.zeros((self.batch_size, *self.dim, self.n_channels)) # (32, H, W, 3)\n",
        "    Y = np.zeros((self.batch_size), dtype=int)\n",
        "\n",
        "    ## Init - first time load\n",
        "    if(self.current_video_data == 0 and self.current_video_frame == 0 and self.current_movie_index == 0):\n",
        "      #####print(\"DEBUG - First time load\")\n",
        "      video_path = self.movie_path_list[self.current_movie_index]\n",
        "      annotation_path = video_path.replace(\"Videos\", \"Annotation_files\")\n",
        "      annotation_path = annotation_path.replace(\".avi\", \".txt\")\n",
        "\n",
        "      self.current_video_data = self.video_utils.convert_single_video_to_images(video_path, annotation_path, self.dim)\n",
        "      self.current_video_data = (self.video_utils.normalize_image(self.current_video_data[0]), self.current_video_data[1])\n",
        "    \n",
        "    total_number_of_current_images = len(self.current_video_data[0])\n",
        "    #####print(f\"DEBUG - total_number_of_current_images : {total_number_of_current_images}\")\n",
        "\n",
        "    # Check if dont have enough frames\n",
        "    if(self.current_video_frame + self.batch_size + 1 > total_number_of_current_images):\n",
        "      #####print(f\"DEBUG - not have enough frames{self.current_video_frame + self.batch_size -1}>{total_number_of_current_images} - taking from current and current + 1\")\n",
        "      # How many frames did we overextend with\n",
        "      residual_value_from_current_video = (self.current_video_frame + self.batch_size)%total_number_of_current_images\n",
        "      # How many frames are we missing to complete current video\n",
        "      frames_missing = self.batch_size - residual_value_from_current_video\n",
        "\n",
        "      # loop for the remaining needed frames\n",
        "      for i in range(frames_missing):\n",
        "        #####print(f\"DEBUG - taking frame_index: {self.current_video_frame}\")\n",
        "        X[i,] = self.current_video_data[0][self.current_video_frame]\n",
        "        Y[i,] = self.current_video_data[1][self.current_video_frame]\n",
        "        self.current_video_frame += 1\n",
        "    \n",
        "      # Continue to next video\n",
        "      self.current_movie_index += 1\n",
        "      self.current_video_frame = 0\n",
        "      self.current_video_data = 0\n",
        "\n",
        "      # If we have more movies\n",
        "      # 0, 1, 2     -- 2<=2\n",
        "      if(self.current_movie_index <= (len(self.movie_path_list) - 1)):\n",
        "        #####print(\"DEBUG - taking new vid\")\n",
        "        video_path = self.movie_path_list[self.current_movie_index]\n",
        "        annotation_path = video_path.replace(\"Videos\", \"Annotation_files\")\n",
        "        annotation_path = annotation_path.replace(\".avi\", \".txt\")\n",
        "\n",
        "        self.current_video_data = self.video_utils.convert_single_video_to_images(video_path, annotation_path, self.dim)\n",
        "        self.current_video_data = (self.video_utils.normalize_image(self.current_video_data[0]), self.current_video_data[1])\n",
        "        for i in range(frames_missing, self.batch_size):\n",
        "          X[i,] = self.current_video_data[0][self.current_video_frame]\n",
        "          Y[i,] = self.current_video_data[1][self.current_video_frame]\n",
        "          self.current_video_frame += 1\n",
        "        \n",
        "    # We do have enough frames\n",
        "    else:\n",
        "      #####print(\"DEBUG - We have frames - taking from current only\")\n",
        "      for i in range(self.batch_size):\n",
        "        X[i,] = self.current_video_data[0][self.current_video_frame]\n",
        "        Y[i,] = self.current_video_data[1][self.current_video_frame]\n",
        "        self.current_video_frame += 1\n",
        "      \n",
        "      # If we have an exact match of video frames and have more videos\n",
        "      #####print(f\"DEBUG {self.current_video_frame} == {total_number_of_current_images} and {self.current_movie_index} <= {(len(self.movie_path_list) - 1)}\")\n",
        "      if(self.current_video_frame == total_number_of_current_images and self.current_movie_index <= (len(self.movie_path_list) - 1)):\n",
        "        #####print(f\"DEBUG - having exact match\")\n",
        "        # Continue to next video\n",
        "        self.current_movie_index += 1\n",
        "        self.current_video_frame = 0\n",
        "\n",
        "        video_path = self.movie_path_list[self.current_movie_index]\n",
        "        annotation_path = video_path.replace(\"Videos\", \"Annotation_files\")\n",
        "        annotation_path = annotation_path.replace(\".avi\", \".txt\")\n",
        "\n",
        "        self.current_video_data = self.video_utils.convert_single_video_to_images(video_path, annotation_path, self.dim)\n",
        "        self.current_video_data = (self.video_utils.normalize_image(self.current_video_data[0]), self.current_video_data[1])\n",
        "    \n",
        "    return X, keras.utils.np_utils.to_categorical(Y, num_classes=self.n_classes)\n",
        "\n",
        "  def __len__(self):\n",
        "    'Denotes the number of batches per epoch'\n",
        "    ## Total number of frames in all videos / batchsize\n",
        "    return int(np.floor(self.total_movie_frames / self.batch_size) - 10)\n",
        "\n",
        "\n",
        "  def __getitem__(self, index):\n",
        "    'Generate one batch of data'\n",
        "    \n",
        "    if(self.current_batch > self.__len__()-1):\n",
        "      self.on_epoch_end()\n",
        "\n",
        "    # Generate data\n",
        "    X, y = self.__data_generation()\n",
        "    \n",
        "    return X, y\n"
      ],
      "execution_count": null,
      "outputs": []
    },
    {
      "cell_type": "markdown",
      "metadata": {
        "id": "5By3K9GZA9zF"
      },
      "source": [
        "### Testing data loader\n"
      ]
    },
    {
      "cell_type": "code",
      "metadata": {
        "colab": {
          "base_uri": "https://localhost:8080/"
        },
        "id": "DRllNJscA_wr",
        "outputId": "778b8c61-60f4-42c6-c21e-f4eafaf6d0a7"
      },
      "source": [
        "#utils_video\n",
        "video_utils = VideoUtils()\n",
        "\n",
        "# Datasets\n",
        "partition = video_utils.create_partition_list(p)"
      ],
      "execution_count": null,
      "outputs": [
        {
          "output_type": "stream",
          "name": "stdout",
          "text": [
            "traning 0:0\n",
            "validation 1:0\n"
          ]
        }
      ]
    },
    {
      "cell_type": "code",
      "metadata": {
        "id": "RUWc-e6pR0y5",
        "colab": {
          "base_uri": "https://localhost:8080/"
        },
        "outputId": "bfccbd53-0d01-4c3d-cad2-f0da5a25853e"
      },
      "source": [
        "# Parameters\n",
        "params = {'batch_size': 32,\n",
        "          'dim': (180,180),\n",
        "          'n_channels': 3,\n",
        "          'n_classes': 2, \n",
        "          'shuffle': True}\n",
        "\n",
        "# Generators\n",
        "#short = partition['Training'][0][0:3]\n",
        "training_generator = FallingDataGenerator(partition['Training'][0], partition['Training'][1], **params)\n",
        "validation_generator = FallingDataGenerator(partition['Validation'][0], partition['Validation'][1], **params)"
      ],
      "execution_count": null,
      "outputs": [
        {
          "output_type": "stream",
          "name": "stdout",
          "text": [
            "DEBUG - on epoch end\n",
            "DEBUG - on epoch end\n"
          ]
        }
      ]
    },
    {
      "cell_type": "code",
      "metadata": {
        "id": "zQwHMF9Whdko"
      },
      "source": [
        "x,y = training_generator.__getitem__()\n",
        "print(f\"current movie file index : {training_generator.current_movie_index}\")\n",
        "print(f\"current video frame in movie: {training_generator.current_video_frame}\")\n",
        "print(f\"batch : {len(x)}\")"
      ],
      "execution_count": null,
      "outputs": []
    },
    {
      "cell_type": "markdown",
      "metadata": {
        "id": "NZtxzB6fDiZm"
      },
      "source": [
        "### Model Training\n",
        "\n"
      ]
    },
    {
      "cell_type": "code",
      "metadata": {
        "colab": {
          "base_uri": "https://localhost:8080/"
        },
        "id": "Jqz5bJBfDmJC",
        "outputId": "50d12013-4c4f-4ccc-a244-d56df8fc428a"
      },
      "source": [
        "import numpy as np\n",
        "from keras.models import Sequential\n",
        "from keras.layers import Conv2D, MaxPooling2D\n",
        "from keras.layers import Dense, Dropout, Activation, Flatten\n",
        "\n",
        "# Model\n",
        "model = Sequential()\n",
        "model.add(Conv2D(8, (3, 3), padding='same', input_shape=(180,180,3)))\n",
        "model.add(Activation('relu'))\n",
        "model.add(MaxPooling2D((2, 2)))\n",
        "model.add(Conv2D(16, (3, 3)))\n",
        "model.add(Activation('relu'))\n",
        "model.add(MaxPooling2D(pool_size=(2, 2)))\n",
        "model.add(Conv2D(32, (3, 3), padding='same'))\n",
        "model.add(Activation('relu'))\n",
        "model.add(MaxPooling2D(pool_size=(2, 2)))\n",
        "model.add(Conv2D(64, (3, 3), padding='same'))\n",
        "model.add(Activation('relu'))\n",
        "model.add(MaxPooling2D(pool_size=(2, 2)))\n",
        "\n",
        "model.add(Flatten())\n",
        "model.add(Dense(256)) # W1*x + b\n",
        "model.add(Activation('relu')) # ReLU(W1*x + b)\n",
        "model.add(Dropout(0.5))\n",
        "model.add(Dense(2)) # number of classes\n",
        "model.add(Activation('softmax'))  # softmax(W2*x + b)\n",
        "\n",
        "model.summary()"
      ],
      "execution_count": null,
      "outputs": [
        {
          "output_type": "stream",
          "name": "stdout",
          "text": [
            "Model: \"sequential_3\"\n",
            "_________________________________________________________________\n",
            " Layer (type)                Output Shape              Param #   \n",
            "=================================================================\n",
            " conv2d_6 (Conv2D)           (None, 180, 180, 8)       224       \n",
            "                                                                 \n",
            " activation_6 (Activation)   (None, 180, 180, 8)       0         \n",
            "                                                                 \n",
            " max_pooling2d_4 (MaxPooling  (None, 90, 90, 8)        0         \n",
            " 2D)                                                             \n",
            "                                                                 \n",
            " conv2d_7 (Conv2D)           (None, 88, 88, 16)        1168      \n",
            "                                                                 \n",
            " activation_7 (Activation)   (None, 88, 88, 16)        0         \n",
            "                                                                 \n",
            " max_pooling2d_5 (MaxPooling  (None, 44, 44, 16)       0         \n",
            " 2D)                                                             \n",
            "                                                                 \n",
            " conv2d_8 (Conv2D)           (None, 44, 44, 32)        4640      \n",
            "                                                                 \n",
            " activation_8 (Activation)   (None, 44, 44, 32)        0         \n",
            "                                                                 \n",
            " max_pooling2d_6 (MaxPooling  (None, 22, 22, 32)       0         \n",
            " 2D)                                                             \n",
            "                                                                 \n",
            " conv2d_9 (Conv2D)           (None, 22, 22, 64)        18496     \n",
            "                                                                 \n",
            " activation_9 (Activation)   (None, 22, 22, 64)        0         \n",
            "                                                                 \n",
            " max_pooling2d_7 (MaxPooling  (None, 11, 11, 64)       0         \n",
            " 2D)                                                             \n",
            "                                                                 \n",
            " flatten (Flatten)           (None, 7744)              0         \n",
            "                                                                 \n",
            " dense (Dense)               (None, 256)               1982720   \n",
            "                                                                 \n",
            " activation_10 (Activation)  (None, 256)               0         \n",
            "                                                                 \n",
            " dropout (Dropout)           (None, 256)               0         \n",
            "                                                                 \n",
            " dense_1 (Dense)             (None, 2)                 514       \n",
            "                                                                 \n",
            " activation_11 (Activation)  (None, 2)                 0         \n",
            "                                                                 \n",
            "=================================================================\n",
            "Total params: 2,007,762\n",
            "Trainable params: 2,007,762\n",
            "Non-trainable params: 0\n",
            "_________________________________________________________________\n"
          ]
        }
      ]
    },
    {
      "cell_type": "markdown",
      "metadata": {
        "id": "bMjqnrO1LTfP"
      },
      "source": [
        "### Model fit - takes around 20 mins\n"
      ]
    },
    {
      "cell_type": "code",
      "metadata": {
        "colab": {
          "base_uri": "https://localhost:8080/"
        },
        "id": "qC0fSExhHnXn",
        "outputId": "d1001a73-4535-4de3-fe50-d1edc7a68aa6"
      },
      "source": [
        "# Compile the model before training\n",
        "model.compile(optimizer='sgd',loss='categorical_crossentropy',metrics=['accuracy'])\n",
        "\n",
        "number_of_epochs = 2\n",
        "\n",
        "history = model.fit_generator(generator=training_generator, validation_data=validation_generator, epochs=number_of_epochs, use_multiprocessing=False)\n",
        "model.save(str(p)+ \"/model\")"
      ],
      "execution_count": null,
      "outputs": [
        {
          "output_type": "stream",
          "name": "stderr",
          "text": [
            "/usr/local/lib/python3.7/dist-packages/ipykernel_launcher.py:6: UserWarning: `Model.fit_generator` is deprecated and will be removed in a future version. Please use `Model.fit`, which supports generators.\n",
            "  \n"
          ]
        },
        {
          "output_type": "stream",
          "name": "stdout",
          "text": [
            "Epoch 1/2\n",
            "1813/1813 [==============================] - ETA: 0s - loss: 0.2224 - accuracy: 0.9462DEBUG - on epoch end\n",
            "1813/1813 [==============================] - 599s 313ms/step - loss: 0.2224 - accuracy: 0.9462 - val_loss: 0.2027 - val_accuracy: 0.9491\n",
            "DEBUG - on epoch end\n",
            "Epoch 2/2\n",
            "1813/1813 [==============================] - ETA: 0s - loss: 0.2099 - accuracy: 0.9462DEBUG - on epoch end\n",
            "1813/1813 [==============================] - 537s 295ms/step - loss: 0.2099 - accuracy: 0.9462 - val_loss: 0.1954 - val_accuracy: 0.9520\n",
            "DEBUG - on epoch end\n",
            "INFO:tensorflow:Assets written to: /content/gdrive/My Drive/Data_complete/model/assets\n"
          ]
        }
      ]
    },
    {
      "cell_type": "markdown",
      "metadata": {
        "id": "7PskTBHYXzCS"
      },
      "source": [
        "### Evalutate - 1 vid"
      ]
    },
    {
      "cell_type": "code",
      "metadata": {
        "id": "4m-J1ILjXN-G"
      },
      "source": [
        "video_path = str(p) + \"/Coffee_room_01/Videos/video (5).avi\"\n",
        "annotation_path = str(p) + \"/Coffee_room_01/Annotation_files/video (5).txt\"\n",
        "dim = (180, 180)\n",
        "video_utils = VideoUtils()\n",
        "\n",
        "current_video_data = video_utils.convert_single_video_to_images(video_path, annotation_path, dim)\n",
        "current_video_data = (video_utils.normalize_image(current_video_data[0]), current_video_data[1])\n",
        "\n",
        "test_predictions = model.predict(current_video_data[0])\n",
        "#print(test_predictions[0])\n",
        "\n",
        "#for i, prediction in enumerate(test_predictions):\n",
        "#  print(prediction)\n",
        "#  print(f\"Current video data: {current_video_data[1][i]}\")\n",
        "\n",
        "\n",
        "#test_acc, test_loss = model.evaluate(current_video_data[0], current_video_data[1], verbose=2)\n",
        "#print(test_acc)\n",
        "#print(test_loss)\n"
      ],
      "execution_count": null,
      "outputs": []
    },
    {
      "cell_type": "markdown",
      "metadata": {
        "id": "4BucITFod3Wa"
      },
      "source": [
        "### Dataset review"
      ]
    },
    {
      "cell_type": "markdown",
      "metadata": {
        "id": "xPsWJuaSqoA9"
      },
      "source": [
        "### Falling vs. not-falling class distribution - 9 mins to run"
      ]
    },
    {
      "cell_type": "code",
      "metadata": {
        "colab": {
          "base_uri": "https://localhost:8080/"
        },
        "id": "z2etTd12eCUl",
        "outputId": "349d08a5-36a4-4f2f-a82e-c7086730f272"
      },
      "source": [
        "video_utils = VideoUtils()\n",
        "\n",
        "# Falling vs. not-falling class distribution       //9 mins to run\n",
        "total_movies_to_fetch = video_utils._get_movie_IDs(p)\n",
        "\n",
        "print(f\"Total movies: {len(total_movies_to_fetch)}\")\n",
        "label_0_count = 0\n",
        "label_1_count = 0\n",
        "\n",
        "\n",
        "for movie in total_movies_to_fetch:\n",
        "  annotation_path = movie.replace(\"Videos\", \"Annotation_files\")\n",
        "  annotation_path = annotation_path.replace(\".avi\", \".txt\")\n",
        "\n",
        "  samples, labels, _ = video_utils.convert_single_video_to_images(movie, annotation_path, (180, 180))\n",
        "\n",
        "  label_0_count += labels.tolist().count(0)\n",
        "  label_1_count += labels.tolist().count(1)\n",
        "\n",
        "print(f\"Total number of 'Not-Falling' samples: {label_0_count}\")\n",
        "print(f\"Total number of 'Falling' samples: {label_1_count}\")\n",
        "print(f\"{(label_1_count/(label_1_count + label_0_count))*100}% is falling\")"
      ],
      "execution_count": null,
      "outputs": [
        {
          "output_type": "stream",
          "name": "stdout",
          "text": [
            "Total movies: 190\n",
            "Total number of 'Not-Falling' samples: 71883\n",
            "Total number of 'Falling' samples: 4028\n",
            "Falling dataset %: 5.306213855699438%\n"
          ]
        }
      ]
    },
    {
      "cell_type": "markdown",
      "metadata": {
        "id": "GmTSSePeraGi"
      },
      "source": [
        "### confusion matrix\n"
      ]
    },
    {
      "cell_type": "code",
      "metadata": {
        "id": "S6lhelk1vUdn"
      },
      "source": [
        "model = keras.models.load_model(str(p) + \"/model\")\n",
        "\n",
        "\n",
        "test_paths  = partition['Validation'][0]\n",
        "\n",
        "true_labels = []\n",
        "predicted_labels = []\n",
        "\n",
        "for test_path in test_paths:\n",
        "  annotation_path = test_path.replace(\"Videos\", \"Annotation_files\")\n",
        "  annotation_path = annotation_path.replace(\".avi\", \".txt\")\n",
        "  samples, current_vid_labels, _ = video_utils.convert_single_video_to_images(test_path, annotation_path, (180, 180))\n",
        "  samples = video_utils.normalize_image(samples)\n",
        "  probabilities = model.predict(samples)\n",
        "  current_vid_predictions = np.argmax(probabilities,axis=1)\n",
        "\n",
        "  for i in range(len(current_vid_labels)):\n",
        "    true_labels.append(current_vid_labels[i])\n",
        "    predicted_labels.append(current_vid_predictions[i])"
      ],
      "execution_count": null,
      "outputs": []
    },
    {
      "cell_type": "code",
      "metadata": {
        "colab": {
          "base_uri": "https://localhost:8080/",
          "height": 279
        },
        "id": "g_BsVVUOrcz3",
        "outputId": "72e0f609-b497-480e-faa4-f5cb85be4d41"
      },
      "source": [
        "from sklearn.metrics import confusion_matrix, ConfusionMatrixDisplay\n",
        "import matplotlib.pyplot as plt\n",
        "\n",
        "confusion_matix  = confusion_matrix(true_labels, predicted_labels)\n",
        "\n",
        "disp = ConfusionMatrixDisplay(confusion_matrix=confusion_matix,\n",
        "                              display_labels=[\"not falling\", \"falling\"])\n",
        "disp.plot()\n",
        "\n",
        "plt.show()"
      ],
      "execution_count": null,
      "outputs": [
        {
          "output_type": "display_data",
          "data": {
            "image/png": "[encoded data removed]",
            "text/plain": [
              "<Figure size 432x288 with 2 Axes>"
            ]
          },
          "metadata": {
            "needs_background": "light"
          }
        }
      ]
    },
    {
      "cell_type": "markdown",
      "metadata": {
        "id": "Fr7wk9xjy0Mx"
      },
      "source": [
        "The confusion matrix shows that the model predicts \"not falling 100%\" and allways confuses falling as \"not falling\"\n",
        "* Total number of 'Not-Falling' samples: 71883\n",
        "* Total number of 'Falling' samples: 4028\n",
        "*  5.306213855699438 % of the data is falling \n",
        "\n",
        "Very imbalanced"
      ]
    },
    {
      "cell_type": "markdown",
      "metadata": {
        "id": "JmGjH62Tctmo"
      },
      "source": [
        "### TODO\n",
        "* **Search about class imbalance**\n",
        "  * Binary classifier, where we can edit wiegted loss W_1*l0 + W_2*l1 where W_2 counts for more since, we dont have that much falling data\n",
        "* **Modify own datagenereator**\n",
        "  * Oversampling/undersampling\n",
        "  * Oversampling: **bold text** Instead of taking next 32 frames, we should take 16,16 of each class(falling/not falling) and oversampling from the falling distribution, since we dont have that many\n",
        "  * **Data augmentation**:\n",
        "  * Augment the falling distribution since we dont have that many samples\n",
        "* **Look into what crossvalidation is**"
      ]
    }
  ]
}